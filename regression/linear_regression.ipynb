{
 "cells": [
  {
   "cell_type": "code",
   "execution_count": 29,
   "metadata": {},
   "outputs": [],
   "source": [
    "import matplotlib.pyplot as plotter\n",
    "from scipy import stats\n",
    "import numpy as np\n",
    "import pandas as pd\n",
    "import os\n",
    "from sklearn.model_selection import train_test_split\n",
    "from sklearn.linear_model import LinearRegression"
   ]
  },
  {
   "cell_type": "code",
   "execution_count": 30,
   "metadata": {},
   "outputs": [
    {
     "data": {
      "text/plain": [
       "Date         0\n",
       "Open         0\n",
       "High         0\n",
       "Low          0\n",
       "Close        0\n",
       "Adj Close    0\n",
       "Volume       0\n",
       "dtype: int64"
      ]
     },
     "execution_count": 30,
     "metadata": {},
     "output_type": "execute_result"
    }
   ],
   "source": [
    "\"\"\"\n",
    "Loading data, CSV file format into seperate numpy arrays\n",
    "\"\"\"\n",
    "TSLA_stock_data =  pd.read_csv('data/TSLA_stock_data.csv')\n",
    "\n",
    "# Assuming the data is not perfect, let's check if there are any missing values\n",
    "TSLA_stock_data.isnull().sum()"
   ]
  },
  {
   "cell_type": "code",
   "execution_count": 31,
   "metadata": {},
   "outputs": [
    {
     "name": "stdout",
     "output_type": "stream",
     "text": [
      "Data type for all the columns: \n",
      "<class 'pandas.core.frame.DataFrame'>\n",
      "RangeIndex: 2416 entries, 0 to 2415\n",
      "Data columns (total 7 columns):\n",
      " #   Column     Non-Null Count  Dtype  \n",
      "---  ------     --------------  -----  \n",
      " 0   Date       2416 non-null   object \n",
      " 1   Open       2416 non-null   float64\n",
      " 2   High       2416 non-null   float64\n",
      " 3   Low        2416 non-null   float64\n",
      " 4   Close      2416 non-null   float64\n",
      " 5   Adj Close  2416 non-null   float64\n",
      " 6   Volume     2416 non-null   int64  \n",
      "dtypes: float64(5), int64(1), object(1)\n",
      "memory usage: 132.2+ KB\n"
     ]
    }
   ],
   "source": [
    "# We need to check the data type for all the columns\n",
    "print(\"Data type for all the columns: \")\n",
    "TSLA_stock_data.info()\n"
   ]
  },
  {
   "cell_type": "code",
   "execution_count": 32,
   "metadata": {},
   "outputs": [
    {
     "name": "stdout",
     "output_type": "stream",
     "text": [
      "Data Type for the remaining columns:\n",
      "<class 'pandas.core.frame.DataFrame'>\n",
      "RangeIndex: 2416 entries, 0 to 2415\n",
      "Data columns (total 6 columns):\n",
      " #   Column     Non-Null Count  Dtype  \n",
      "---  ------     --------------  -----  \n",
      " 0   Open       2416 non-null   float64\n",
      " 1   High       2416 non-null   float64\n",
      " 2   Low        2416 non-null   float64\n",
      " 3   Close      2416 non-null   float64\n",
      " 4   Adj Close  2416 non-null   float64\n",
      " 5   Volume     2416 non-null   int64  \n",
      "dtypes: float64(5), int64(1)\n",
      "memory usage: 113.4 KB\n"
     ]
    }
   ],
   "source": [
    "# We will see the data type for the first column is categorical so we will drop it \n",
    "TSLA_stock_data = TSLA_stock_data.drop(['Date'], axis=1)\n",
    "# Let's print the info again to make sure the first column was dropped\n",
    "print(\"Data Type for the remaining columns:\")\n",
    "TSLA_stock_data.info()"
   ]
  },
  {
   "cell_type": "markdown",
   "metadata": {},
   "source": [
    "# Data\n",
    "We have changed the data a good bit now, so let's check it again "
   ]
  },
  {
   "cell_type": "code",
   "execution_count": 33,
   "metadata": {},
   "outputs": [
    {
     "data": {
      "text/html": [
       "<div>\n",
       "<style scoped>\n",
       "    .dataframe tbody tr th:only-of-type {\n",
       "        vertical-align: middle;\n",
       "    }\n",
       "\n",
       "    .dataframe tbody tr th {\n",
       "        vertical-align: top;\n",
       "    }\n",
       "\n",
       "    .dataframe thead th {\n",
       "        text-align: right;\n",
       "    }\n",
       "</style>\n",
       "<table border=\"1\" class=\"dataframe\">\n",
       "  <thead>\n",
       "    <tr style=\"text-align: right;\">\n",
       "      <th></th>\n",
       "      <th>Open</th>\n",
       "      <th>High</th>\n",
       "      <th>Low</th>\n",
       "      <th>Close</th>\n",
       "      <th>Adj Close</th>\n",
       "      <th>Volume</th>\n",
       "    </tr>\n",
       "  </thead>\n",
       "  <tbody>\n",
       "    <tr>\n",
       "      <th>0</th>\n",
       "      <td>19.000000</td>\n",
       "      <td>25.00</td>\n",
       "      <td>17.540001</td>\n",
       "      <td>23.889999</td>\n",
       "      <td>23.889999</td>\n",
       "      <td>18766300</td>\n",
       "    </tr>\n",
       "    <tr>\n",
       "      <th>1</th>\n",
       "      <td>25.790001</td>\n",
       "      <td>30.42</td>\n",
       "      <td>23.299999</td>\n",
       "      <td>23.830000</td>\n",
       "      <td>23.830000</td>\n",
       "      <td>17187100</td>\n",
       "    </tr>\n",
       "    <tr>\n",
       "      <th>2</th>\n",
       "      <td>25.000000</td>\n",
       "      <td>25.92</td>\n",
       "      <td>20.270000</td>\n",
       "      <td>21.959999</td>\n",
       "      <td>21.959999</td>\n",
       "      <td>8218800</td>\n",
       "    </tr>\n",
       "    <tr>\n",
       "      <th>3</th>\n",
       "      <td>23.000000</td>\n",
       "      <td>23.10</td>\n",
       "      <td>18.709999</td>\n",
       "      <td>19.200001</td>\n",
       "      <td>19.200001</td>\n",
       "      <td>5139800</td>\n",
       "    </tr>\n",
       "    <tr>\n",
       "      <th>4</th>\n",
       "      <td>20.000000</td>\n",
       "      <td>20.00</td>\n",
       "      <td>15.830000</td>\n",
       "      <td>16.110001</td>\n",
       "      <td>16.110001</td>\n",
       "      <td>6866900</td>\n",
       "    </tr>\n",
       "  </tbody>\n",
       "</table>\n",
       "</div>"
      ],
      "text/plain": [
       "        Open   High        Low      Close  Adj Close    Volume\n",
       "0  19.000000  25.00  17.540001  23.889999  23.889999  18766300\n",
       "1  25.790001  30.42  23.299999  23.830000  23.830000  17187100\n",
       "2  25.000000  25.92  20.270000  21.959999  21.959999   8218800\n",
       "3  23.000000  23.10  18.709999  19.200001  19.200001   5139800\n",
       "4  20.000000  20.00  15.830000  16.110001  16.110001   6866900"
      ]
     },
     "execution_count": 33,
     "metadata": {},
     "output_type": "execute_result"
    }
   ],
   "source": [
    "TSLA_stock_data.head()"
   ]
  },
  {
   "cell_type": "markdown",
   "metadata": {},
   "source": [
    "'Adj Close' and 'Close' columns are the same values so we can drop one"
   ]
  },
  {
   "cell_type": "code",
   "execution_count": 34,
   "metadata": {},
   "outputs": [
    {
     "data": {
      "text/html": [
       "<div>\n",
       "<style scoped>\n",
       "    .dataframe tbody tr th:only-of-type {\n",
       "        vertical-align: middle;\n",
       "    }\n",
       "\n",
       "    .dataframe tbody tr th {\n",
       "        vertical-align: top;\n",
       "    }\n",
       "\n",
       "    .dataframe thead th {\n",
       "        text-align: right;\n",
       "    }\n",
       "</style>\n",
       "<table border=\"1\" class=\"dataframe\">\n",
       "  <thead>\n",
       "    <tr style=\"text-align: right;\">\n",
       "      <th></th>\n",
       "      <th>Open</th>\n",
       "      <th>High</th>\n",
       "      <th>Low</th>\n",
       "      <th>Close</th>\n",
       "      <th>Volume</th>\n",
       "    </tr>\n",
       "  </thead>\n",
       "  <tbody>\n",
       "    <tr>\n",
       "      <th>0</th>\n",
       "      <td>19.000000</td>\n",
       "      <td>25.00</td>\n",
       "      <td>17.540001</td>\n",
       "      <td>23.889999</td>\n",
       "      <td>18766300</td>\n",
       "    </tr>\n",
       "    <tr>\n",
       "      <th>1</th>\n",
       "      <td>25.790001</td>\n",
       "      <td>30.42</td>\n",
       "      <td>23.299999</td>\n",
       "      <td>23.830000</td>\n",
       "      <td>17187100</td>\n",
       "    </tr>\n",
       "    <tr>\n",
       "      <th>2</th>\n",
       "      <td>25.000000</td>\n",
       "      <td>25.92</td>\n",
       "      <td>20.270000</td>\n",
       "      <td>21.959999</td>\n",
       "      <td>8218800</td>\n",
       "    </tr>\n",
       "    <tr>\n",
       "      <th>3</th>\n",
       "      <td>23.000000</td>\n",
       "      <td>23.10</td>\n",
       "      <td>18.709999</td>\n",
       "      <td>19.200001</td>\n",
       "      <td>5139800</td>\n",
       "    </tr>\n",
       "    <tr>\n",
       "      <th>4</th>\n",
       "      <td>20.000000</td>\n",
       "      <td>20.00</td>\n",
       "      <td>15.830000</td>\n",
       "      <td>16.110001</td>\n",
       "      <td>6866900</td>\n",
       "    </tr>\n",
       "  </tbody>\n",
       "</table>\n",
       "</div>"
      ],
      "text/plain": [
       "        Open   High        Low      Close    Volume\n",
       "0  19.000000  25.00  17.540001  23.889999  18766300\n",
       "1  25.790001  30.42  23.299999  23.830000  17187100\n",
       "2  25.000000  25.92  20.270000  21.959999   8218800\n",
       "3  23.000000  23.10  18.709999  19.200001   5139800\n",
       "4  20.000000  20.00  15.830000  16.110001   6866900"
      ]
     },
     "execution_count": 34,
     "metadata": {},
     "output_type": "execute_result"
    }
   ],
   "source": [
    "TSLA_stock_data = TSLA_stock_data.drop(['Adj Close'], axis=1)\n",
    "TSLA_stock_data.head()"
   ]
  },
  {
   "cell_type": "markdown",
   "metadata": {},
   "source": [
    "# Some definitions\n",
    "<strong>Target variable</strong> -- The “target variable” is the variable whose values are to be modeled and predicted by other variables. It is analogous to the dependent variable (i.e., the variable on the left of the equal sign) in linear regression. There must be one and only one target variable in a decision tree analysis\n",
    "\n",
    "A linear regression model predicts the target as a weighted sum of the feature inputs. The linearity of the learned relationship makes the interpretation easy. Linear regression models have long been used by statisticians, computer scientists and other people who tackle quantitative problems."
   ]
  },
  {
   "cell_type": "code",
   "execution_count": 35,
   "metadata": {},
   "outputs": [],
   "source": [
    "\"\"\" \n",
    "- Now that we have our data in the right formats and the data we want.\n",
    "- We will now split the data into training and testing data. \n",
    "\"\"\"\n",
    "# Target Variable, we will use the high of the day as our target variable\n",
    "target = TSLA_stock_data['High']\n",
    "\n",
    "# features, we will use the rest of the data as our features\n",
    "features = TSLA_stock_data.drop(['High'], axis=1)\n",
    "\n",
    "# We will use 20% of the data as our testing data. Leaving us with 80% of the data for training\n",
    "xTrain,xTest,yTrain,yTest = train_test_split(features,target, test_size=0.2)\n",
    "# Notice no random state is specified here"
   ]
  },
  {
   "cell_type": "code",
   "execution_count": 38,
   "metadata": {},
   "outputs": [
    {
     "name": "stdout",
     "output_type": "stream",
     "text": [
      "Score: 0.999803851997443\n"
     ]
    }
   ],
   "source": [
    "# Create a Linear Regression model and train our model\n",
    "model = LinearRegression()\n",
    "model.fit(xTrain, yTrain)\n",
    "\n",
    "# Let's see how well our model did using the score method\n",
    "print(f\"Score: {model.score(xTest, yTest)}\")"
   ]
  },
  {
   "cell_type": "markdown",
   "metadata": {},
   "source": [
    "# Some more definitions\n",
    "\n",
    "P-values and coefficients in regression analysis work together to tell you which relationships in your model are statistically significant and the nature of those relationships. The coefficients describe the mathematical relationship between each independent variable and the dependent variable. The p-values for the coefficients indicate whether these relationships are statistically significant.\n",
    "- https://statisticsbyjim.com/regression/interpret-coefficients-p-values-regression/\n",
    "\n",
    "Now that we have an understanding of what P-values and coeffiecents are. Let's check what our values may be"
   ]
  },
  {
   "cell_type": "code",
   "execution_count": 40,
   "metadata": {},
   "outputs": [
    {
     "name": "stdout",
     "output_type": "stream",
     "text": [
      "Intercept: -0.21182133676549597\n",
      "Coefficients: [ 5.76044711e-01 -2.93615089e-01  7.24289957e-01  2.12524112e-07]\n"
     ]
    }
   ],
   "source": [
    "print(f\"Intercept: {model.intercept_}\")\n",
    "print(f\"Coefficients: {model.coef_}\")"
   ]
  },
  {
   "cell_type": "markdown",
   "metadata": {},
   "source": [
    "Now that we know our correlations we can go ahead and run a prediction"
   ]
  },
  {
   "cell_type": "code",
   "execution_count": 42,
   "metadata": {},
   "outputs": [
    {
     "data": {
      "text/html": [
       "<div>\n",
       "<style scoped>\n",
       "    .dataframe tbody tr th:only-of-type {\n",
       "        vertical-align: middle;\n",
       "    }\n",
       "\n",
       "    .dataframe tbody tr th {\n",
       "        vertical-align: top;\n",
       "    }\n",
       "\n",
       "    .dataframe thead th {\n",
       "        text-align: right;\n",
       "    }\n",
       "</style>\n",
       "<table border=\"1\" class=\"dataframe\">\n",
       "  <thead>\n",
       "    <tr style=\"text-align: right;\">\n",
       "      <th></th>\n",
       "      <th>Actual</th>\n",
       "      <th>Our Prediction</th>\n",
       "    </tr>\n",
       "  </thead>\n",
       "  <tbody>\n",
       "    <tr>\n",
       "      <th>1411</th>\n",
       "      <td>173.000000</td>\n",
       "      <td>171.925063</td>\n",
       "    </tr>\n",
       "    <tr>\n",
       "      <th>2400</th>\n",
       "      <td>484.940002</td>\n",
       "      <td>487.308739</td>\n",
       "    </tr>\n",
       "    <tr>\n",
       "      <th>235</th>\n",
       "      <td>31.500000</td>\n",
       "      <td>31.521534</td>\n",
       "    </tr>\n",
       "    <tr>\n",
       "      <th>931</th>\n",
       "      <td>247.500000</td>\n",
       "      <td>242.266976</td>\n",
       "    </tr>\n",
       "    <tr>\n",
       "      <th>871</th>\n",
       "      <td>148.240005</td>\n",
       "      <td>148.686583</td>\n",
       "    </tr>\n",
       "    <tr>\n",
       "      <th>1235</th>\n",
       "      <td>249.500000</td>\n",
       "      <td>250.779244</td>\n",
       "    </tr>\n",
       "    <tr>\n",
       "      <th>1694</th>\n",
       "      <td>255.070007</td>\n",
       "      <td>256.708348</td>\n",
       "    </tr>\n",
       "    <tr>\n",
       "      <th>404</th>\n",
       "      <td>31.330000</td>\n",
       "      <td>31.147949</td>\n",
       "    </tr>\n",
       "    <tr>\n",
       "      <th>131</th>\n",
       "      <td>26.950001</td>\n",
       "      <td>27.074830</td>\n",
       "    </tr>\n",
       "    <tr>\n",
       "      <th>683</th>\n",
       "      <td>36.060001</td>\n",
       "      <td>35.608014</td>\n",
       "    </tr>\n",
       "    <tr>\n",
       "      <th>2298</th>\n",
       "      <td>221.559998</td>\n",
       "      <td>222.819138</td>\n",
       "    </tr>\n",
       "    <tr>\n",
       "      <th>1527</th>\n",
       "      <td>224.500000</td>\n",
       "      <td>224.934055</td>\n",
       "    </tr>\n",
       "    <tr>\n",
       "      <th>1324</th>\n",
       "      <td>248.500000</td>\n",
       "      <td>247.454606</td>\n",
       "    </tr>\n",
       "    <tr>\n",
       "      <th>1492</th>\n",
       "      <td>219.910004</td>\n",
       "      <td>221.557615</td>\n",
       "    </tr>\n",
       "    <tr>\n",
       "      <th>1867</th>\n",
       "      <td>317.339996</td>\n",
       "      <td>319.787914</td>\n",
       "    </tr>\n",
       "    <tr>\n",
       "      <th>591</th>\n",
       "      <td>29.490000</td>\n",
       "      <td>29.184623</td>\n",
       "    </tr>\n",
       "    <tr>\n",
       "      <th>413</th>\n",
       "      <td>34.509998</td>\n",
       "      <td>34.759412</td>\n",
       "    </tr>\n",
       "    <tr>\n",
       "      <th>2045</th>\n",
       "      <td>363.190002</td>\n",
       "      <td>365.705690</td>\n",
       "    </tr>\n",
       "    <tr>\n",
       "      <th>789</th>\n",
       "      <td>143.910004</td>\n",
       "      <td>144.342291</td>\n",
       "    </tr>\n",
       "    <tr>\n",
       "      <th>668</th>\n",
       "      <td>36.750000</td>\n",
       "      <td>36.044611</td>\n",
       "    </tr>\n",
       "  </tbody>\n",
       "</table>\n",
       "</div>"
      ],
      "text/plain": [
       "          Actual  Our Prediction\n",
       "1411  173.000000      171.925063\n",
       "2400  484.940002      487.308739\n",
       "235    31.500000       31.521534\n",
       "931   247.500000      242.266976\n",
       "871   148.240005      148.686583\n",
       "1235  249.500000      250.779244\n",
       "1694  255.070007      256.708348\n",
       "404    31.330000       31.147949\n",
       "131    26.950001       27.074830\n",
       "683    36.060001       35.608014\n",
       "2298  221.559998      222.819138\n",
       "1527  224.500000      224.934055\n",
       "1324  248.500000      247.454606\n",
       "1492  219.910004      221.557615\n",
       "1867  317.339996      319.787914\n",
       "591    29.490000       29.184623\n",
       "413    34.509998       34.759412\n",
       "2045  363.190002      365.705690\n",
       "789   143.910004      144.342291\n",
       "668    36.750000       36.044611"
      ]
     },
     "execution_count": 42,
     "metadata": {},
     "output_type": "execute_result"
    }
   ],
   "source": [
    "predictions = model.predict(xTest)\n",
    "\n",
    "# After prediction we need to create a prediction plot to see how close our model prediction may be as compared to the actual values\n",
    "ourComparisonPlot = pd.DataFrame({'Actual': yTest, 'Our Prediction': predictions})\n",
    "\n",
    "# Now we can print the first 20 rows of our comparison plot\n",
    "ourComparisonPlot.head(20)"
   ]
  },
  {
   "cell_type": "markdown",
   "metadata": {},
   "source": [
    "What if we wanted to plot the data?"
   ]
  },
  {
   "cell_type": "code",
   "execution_count": 44,
   "metadata": {},
   "outputs": [
    {
     "data": {
      "image/png": "[encoded data removed]",
      "text/plain": [
       "<Figure size 432x288 with 1 Axes>"
      ]
     },
     "metadata": {},
     "output_type": "display_data"
    }
   ],
   "source": [
    "# We want to at least look good\n",
    "plotter.style.use('ggplot')\n",
    "\n",
    "# Let's plot\n",
    "plotter.plot(ourComparisonPlot['Actual'], ourComparisonPlot['Our Prediction'], 'o', color=\"cornflowerblue\")\n",
    "plotter.xlabel('Actual')\n",
    "plotter.ylabel('Predicted')\n",
    "plotter.title('Actual vs Predicted')\n",
    "plotter.show()"
   ]
  },
  {
   "cell_type": "markdown",
   "metadata": {},
   "source": [
    "The above graph shows a very close relation between our actual and predicted values"
   ]
  }
 ],
 "metadata": {
  "interpreter": {
   "hash": "f3f15743f56004c83ba6427df72dd7847ba5cfceeb30fc8b6e66228bb04c2a9e"
  },
  "kernelspec": {
   "display_name": "Python 3.9.1 64-bit",
   "language": "python",
   "name": "python3"
  },
  "language_info": {
   "codemirror_mode": {
    "name": "ipython",
    "version": 3
   },
   "file_extension": ".py",
   "mimetype": "text/x-python",
   "name": "python",
   "nbconvert_exporter": "python",
   "pygments_lexer": "ipython3",
   "version": "3.9.1"
  },
  "orig_nbformat": 4
 },
 "nbformat": 4,
 "nbformat_minor": 2
}
