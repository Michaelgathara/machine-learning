{
 "cells": [
  {
   "cell_type": "code",
   "execution_count": 26,
   "metadata": {},
   "outputs": [],
   "source": [
    "import matplotlib.pyplot as plotter\n",
    "from scipy import stats\n",
    "import numpy as np\n",
    "import pandas as pd\n",
    "import os\n",
    "from sklearn.model_selection import train_test_split\n",
    "from sklearn.linear_model import LinearRegression"
   ]
  },
  {
   "cell_type": "code",
   "execution_count": 27,
   "metadata": {},
   "outputs": [],
   "source": [
    "mass_shootings = pd.read_csv('data/mass_shootings.csv')"
   ]
  },
  {
   "cell_type": "code",
   "execution_count": 28,
   "metadata": {},
   "outputs": [
    {
     "data": {
      "text/plain": [
       "case                                5\n",
       "location                            5\n",
       "date                                5\n",
       "summary                             5\n",
       "fatalities                          5\n",
       "injured                             5\n",
       "total_victims                       5\n",
       "location.1                          5\n",
       "age_of_shooter                      5\n",
       "prior_signs_mental_health_issues    5\n",
       "mental_health_details               5\n",
       "weapons_obtained_legally            5\n",
       "where_obtained                      5\n",
       "weapon_type                         5\n",
       "weapon_details                      5\n",
       "race                                5\n",
       "gender                              5\n",
       "sources                             5\n",
       "mental_health_sources               5\n",
       "sources_additional_age              5\n",
       "latitude                            5\n",
       "longitude                           5\n",
       "type                                5\n",
       "year                                5\n",
       "dtype: int64"
      ]
     },
     "execution_count": 28,
     "metadata": {},
     "output_type": "execute_result"
    }
   ],
   "source": [
    "# Checking for null values\n",
    "mass_shootings.isnull().sum()"
   ]
  },
  {
   "cell_type": "code",
   "execution_count": 29,
   "metadata": {},
   "outputs": [
    {
     "name": "stdout",
     "output_type": "stream",
     "text": [
      "<class 'pandas.core.frame.DataFrame'>\n",
      "RangeIndex: 129 entries, 0 to 128\n",
      "Data columns (total 24 columns):\n",
      " #   Column                            Non-Null Count  Dtype  \n",
      "---  ------                            --------------  -----  \n",
      " 0   case                              124 non-null    object \n",
      " 1   location                          124 non-null    object \n",
      " 2   date                              124 non-null    object \n",
      " 3   summary                           124 non-null    object \n",
      " 4   fatalities                        124 non-null    float64\n",
      " 5   injured                           124 non-null    float64\n",
      " 6   total_victims                     124 non-null    float64\n",
      " 7   location.1                        124 non-null    object \n",
      " 8   age_of_shooter                    124 non-null    float64\n",
      " 9   prior_signs_mental_health_issues  124 non-null    object \n",
      " 10  mental_health_details             124 non-null    object \n",
      " 11  weapons_obtained_legally          124 non-null    object \n",
      " 12  where_obtained                    124 non-null    object \n",
      " 13  weapon_type                       124 non-null    object \n",
      " 14  weapon_details                    124 non-null    object \n",
      " 15  race                              124 non-null    object \n",
      " 16  gender                            124 non-null    object \n",
      " 17  sources                           124 non-null    object \n",
      " 18  mental_health_sources             124 non-null    object \n",
      " 19  sources_additional_age            124 non-null    object \n",
      " 20  latitude                          124 non-null    object \n",
      " 21  longitude                         124 non-null    object \n",
      " 22  type                              124 non-null    object \n",
      " 23  year                              124 non-null    float64\n",
      "dtypes: float64(5), object(19)\n",
      "memory usage: 24.3+ KB\n"
     ]
    }
   ],
   "source": [
    "mass_shootings.info()"
   ]
  },
  {
   "cell_type": "code",
   "execution_count": 30,
   "metadata": {},
   "outputs": [],
   "source": [
    "# Let's drop some of these columns\n",
    "mass_shootings.drop(['gender', 'mental_health_sources', 'sources_additional_age', 'weapon_details', 'mental_health_details', 'where_obtained', 'prior_signs_mental_health_issues', 'race', 'sources', 'location'], axis=1, inplace=True)"
   ]
  },
  {
   "cell_type": "code",
   "execution_count": 31,
   "metadata": {},
   "outputs": [
    {
     "name": "stdout",
     "output_type": "stream",
     "text": [
      "<class 'pandas.core.frame.DataFrame'>\n",
      "RangeIndex: 129 entries, 0 to 128\n",
      "Data columns (total 14 columns):\n",
      " #   Column                    Non-Null Count  Dtype  \n",
      "---  ------                    --------------  -----  \n",
      " 0   case                      124 non-null    object \n",
      " 1   date                      124 non-null    object \n",
      " 2   summary                   124 non-null    object \n",
      " 3   fatalities                124 non-null    float64\n",
      " 4   injured                   124 non-null    float64\n",
      " 5   total_victims             124 non-null    float64\n",
      " 6   location.1                124 non-null    object \n",
      " 7   age_of_shooter            124 non-null    float64\n",
      " 8   weapons_obtained_legally  124 non-null    object \n",
      " 9   weapon_type               124 non-null    object \n",
      " 10  latitude                  124 non-null    object \n",
      " 11  longitude                 124 non-null    object \n",
      " 12  type                      124 non-null    object \n",
      " 13  year                      124 non-null    float64\n",
      "dtypes: float64(5), object(9)\n",
      "memory usage: 14.2+ KB\n"
     ]
    }
   ],
   "source": [
    "mass_shootings.info()"
   ]
  },
  {
   "cell_type": "code",
   "execution_count": 32,
   "metadata": {},
   "outputs": [
    {
     "data": {
      "text/html": [
       "<div>\n",
       "<style scoped>\n",
       "    .dataframe tbody tr th:only-of-type {\n",
       "        vertical-align: middle;\n",
       "    }\n",
       "\n",
       "    .dataframe tbody tr th {\n",
       "        vertical-align: top;\n",
       "    }\n",
       "\n",
       "    .dataframe thead th {\n",
       "        text-align: right;\n",
       "    }\n",
       "</style>\n",
       "<table border=\"1\" class=\"dataframe\">\n",
       "  <thead>\n",
       "    <tr style=\"text-align: right;\">\n",
       "      <th></th>\n",
       "      <th>case</th>\n",
       "      <th>date</th>\n",
       "      <th>summary</th>\n",
       "      <th>fatalities</th>\n",
       "      <th>injured</th>\n",
       "      <th>total_victims</th>\n",
       "      <th>age_of_shooter</th>\n",
       "      <th>weapons_obtained_legally</th>\n",
       "      <th>weapon_type</th>\n",
       "      <th>latitude</th>\n",
       "      <th>longitude</th>\n",
       "      <th>type</th>\n",
       "      <th>year</th>\n",
       "    </tr>\n",
       "  </thead>\n",
       "  <tbody>\n",
       "    <tr>\n",
       "      <th>0</th>\n",
       "      <td>NaN</td>\n",
       "      <td>NaN</td>\n",
       "      <td>NaN</td>\n",
       "      <td>NaN</td>\n",
       "      <td>NaN</td>\n",
       "      <td>NaN</td>\n",
       "      <td>NaN</td>\n",
       "      <td>NaN</td>\n",
       "      <td>NaN</td>\n",
       "      <td>NaN</td>\n",
       "      <td>NaN</td>\n",
       "      <td>NaN</td>\n",
       "      <td>NaN</td>\n",
       "    </tr>\n",
       "    <tr>\n",
       "      <th>1</th>\n",
       "      <td>Robb Elementary School massacre</td>\n",
       "      <td>5/24/2022</td>\n",
       "      <td>Salvador Ramos, 18, was identified by authorit...</td>\n",
       "      <td>21.0</td>\n",
       "      <td>17.0</td>\n",
       "      <td>38.0</td>\n",
       "      <td>18.0</td>\n",
       "      <td>yes</td>\n",
       "      <td>semiautomatic rifles</td>\n",
       "      <td>-</td>\n",
       "      <td>-</td>\n",
       "      <td>Mass</td>\n",
       "      <td>2022.0</td>\n",
       "    </tr>\n",
       "    <tr>\n",
       "      <th>2</th>\n",
       "      <td>Buffalo supermarket massacre</td>\n",
       "      <td>5/14/2022</td>\n",
       "      <td>Payton S. Gendron, 18, committed a racially mo...</td>\n",
       "      <td>10.0</td>\n",
       "      <td>3.0</td>\n",
       "      <td>13.0</td>\n",
       "      <td>18.0</td>\n",
       "      <td>yes</td>\n",
       "      <td>semiautomatic rifle</td>\n",
       "      <td>-</td>\n",
       "      <td>-</td>\n",
       "      <td>Mass</td>\n",
       "      <td>2022.0</td>\n",
       "    </tr>\n",
       "    <tr>\n",
       "      <th>3</th>\n",
       "      <td>NaN</td>\n",
       "      <td>NaN</td>\n",
       "      <td>NaN</td>\n",
       "      <td>NaN</td>\n",
       "      <td>NaN</td>\n",
       "      <td>NaN</td>\n",
       "      <td>NaN</td>\n",
       "      <td>NaN</td>\n",
       "      <td>NaN</td>\n",
       "      <td>NaN</td>\n",
       "      <td>NaN</td>\n",
       "      <td>NaN</td>\n",
       "      <td>NaN</td>\n",
       "    </tr>\n",
       "    <tr>\n",
       "      <th>4</th>\n",
       "      <td>Oxford High School shooting</td>\n",
       "      <td>11/30/2021</td>\n",
       "      <td>Ethan Crumbley, a 15-year-old student at Oxfor...</td>\n",
       "      <td>4.0</td>\n",
       "      <td>7.0</td>\n",
       "      <td>11.0</td>\n",
       "      <td>15.0</td>\n",
       "      <td>-</td>\n",
       "      <td>semiautomatic handgun</td>\n",
       "      <td>42.84410784</td>\n",
       "      <td>-83.25992831</td>\n",
       "      <td>Mass</td>\n",
       "      <td>2021.0</td>\n",
       "    </tr>\n",
       "  </tbody>\n",
       "</table>\n",
       "</div>"
      ],
      "text/plain": [
       "                              case        date  \\\n",
       "0                              NaN         NaN   \n",
       "1  Robb Elementary School massacre   5/24/2022   \n",
       "2     Buffalo supermarket massacre   5/14/2022   \n",
       "3                              NaN         NaN   \n",
       "4      Oxford High School shooting  11/30/2021   \n",
       "\n",
       "                                             summary  fatalities  injured  \\\n",
       "0                                                NaN         NaN      NaN   \n",
       "1  Salvador Ramos, 18, was identified by authorit...        21.0     17.0   \n",
       "2  Payton S. Gendron, 18, committed a racially mo...        10.0      3.0   \n",
       "3                                                NaN         NaN      NaN   \n",
       "4  Ethan Crumbley, a 15-year-old student at Oxfor...         4.0      7.0   \n",
       "\n",
       "   total_victims  age_of_shooter weapons_obtained_legally  \\\n",
       "0            NaN             NaN                      NaN   \n",
       "1           38.0            18.0                      yes   \n",
       "2           13.0            18.0                      yes   \n",
       "3            NaN             NaN                      NaN   \n",
       "4           11.0            15.0                        -   \n",
       "\n",
       "             weapon_type     latitude     longitude  type    year  \n",
       "0                    NaN          NaN           NaN   NaN     NaN  \n",
       "1   semiautomatic rifles            -             -  Mass  2022.0  \n",
       "2    semiautomatic rifle            -             -  Mass  2022.0  \n",
       "3                    NaN          NaN           NaN   NaN     NaN  \n",
       "4  semiautomatic handgun  42.84410784  -83.25992831  Mass  2021.0  "
      ]
     },
     "execution_count": 32,
     "metadata": {},
     "output_type": "execute_result"
    }
   ],
   "source": [
    "mass_shootings.drop(['location.1'], axis=1, inplace=True)\n",
    "mass_shootings.head()"
   ]
  },
  {
   "cell_type": "code",
   "execution_count": 33,
   "metadata": {},
   "outputs": [],
   "source": [
    "targetData = mass_shootings['fatalities']\n",
    "featureData = mass_shootings['age_of_shooter']\n",
    "\n",
    "# Training\n",
    "xTrain, xTest, yTrain, yTest = train_test_split(featureData, targetData, test_size=0.2, random_state=0)\n"
   ]
  },
  {
   "cell_type": "code",
   "execution_count": 37,
   "metadata": {},
   "outputs": [
    {
     "ename": "AttributeError",
     "evalue": "'Series' object has no attribute 'reshape'",
     "output_type": "error",
     "traceback": [
      "\u001b[1;31m---------------------------------------------------------------------------\u001b[0m",
      "\u001b[1;31mAttributeError\u001b[0m                            Traceback (most recent call last)",
      "\u001b[1;32m<ipython-input-37-84a5f38e63fa>\u001b[0m in \u001b[0;36m<module>\u001b[1;34m\u001b[0m\n\u001b[0;32m      1\u001b[0m \u001b[0mmodel\u001b[0m \u001b[1;33m=\u001b[0m \u001b[0mLinearRegression\u001b[0m\u001b[1;33m(\u001b[0m\u001b[1;33m)\u001b[0m\u001b[1;33m\u001b[0m\u001b[1;33m\u001b[0m\u001b[0m\n\u001b[1;32m----> 2\u001b[1;33m \u001b[0mmodel\u001b[0m\u001b[1;33m.\u001b[0m\u001b[0mfit\u001b[0m\u001b[1;33m(\u001b[0m\u001b[0mxTrain\u001b[0m\u001b[1;33m.\u001b[0m\u001b[0mreshape\u001b[0m\u001b[1;33m(\u001b[0m\u001b[1;33m-\u001b[0m\u001b[1;36m1\u001b[0m\u001b[1;33m,\u001b[0m\u001b[1;36m1\u001b[0m\u001b[1;33m)\u001b[0m\u001b[1;33m,\u001b[0m \u001b[0myTrain\u001b[0m\u001b[1;33m)\u001b[0m\u001b[1;33m\u001b[0m\u001b[1;33m\u001b[0m\u001b[0m\n\u001b[0m\u001b[0;32m      3\u001b[0m \u001b[1;33m\u001b[0m\u001b[0m\n\u001b[0;32m      4\u001b[0m \u001b[0mprint\u001b[0m\u001b[1;33m(\u001b[0m\u001b[1;34mf\"Score: {model.score(xTest, yTest)}\"\u001b[0m\u001b[1;33m)\u001b[0m\u001b[1;33m\u001b[0m\u001b[1;33m\u001b[0m\u001b[0m\n",
      "\u001b[1;32m~\\AppData\\Roaming\\Python\\Python39\\site-packages\\pandas\\core\\generic.py\u001b[0m in \u001b[0;36m__getattr__\u001b[1;34m(self, name)\u001b[0m\n\u001b[0;32m   5463\u001b[0m             \u001b[1;32mif\u001b[0m \u001b[0mself\u001b[0m\u001b[1;33m.\u001b[0m\u001b[0m_info_axis\u001b[0m\u001b[1;33m.\u001b[0m\u001b[0m_can_hold_identifiers_and_holds_name\u001b[0m\u001b[1;33m(\u001b[0m\u001b[0mname\u001b[0m\u001b[1;33m)\u001b[0m\u001b[1;33m:\u001b[0m\u001b[1;33m\u001b[0m\u001b[1;33m\u001b[0m\u001b[0m\n\u001b[0;32m   5464\u001b[0m                 \u001b[1;32mreturn\u001b[0m \u001b[0mself\u001b[0m\u001b[1;33m[\u001b[0m\u001b[0mname\u001b[0m\u001b[1;33m]\u001b[0m\u001b[1;33m\u001b[0m\u001b[1;33m\u001b[0m\u001b[0m\n\u001b[1;32m-> 5465\u001b[1;33m             \u001b[1;32mreturn\u001b[0m \u001b[0mobject\u001b[0m\u001b[1;33m.\u001b[0m\u001b[0m__getattribute__\u001b[0m\u001b[1;33m(\u001b[0m\u001b[0mself\u001b[0m\u001b[1;33m,\u001b[0m \u001b[0mname\u001b[0m\u001b[1;33m)\u001b[0m\u001b[1;33m\u001b[0m\u001b[1;33m\u001b[0m\u001b[0m\n\u001b[0m\u001b[0;32m   5466\u001b[0m \u001b[1;33m\u001b[0m\u001b[0m\n\u001b[0;32m   5467\u001b[0m     \u001b[1;32mdef\u001b[0m \u001b[0m__setattr__\u001b[0m\u001b[1;33m(\u001b[0m\u001b[0mself\u001b[0m\u001b[1;33m,\u001b[0m \u001b[0mname\u001b[0m\u001b[1;33m:\u001b[0m \u001b[0mstr\u001b[0m\u001b[1;33m,\u001b[0m \u001b[0mvalue\u001b[0m\u001b[1;33m)\u001b[0m \u001b[1;33m->\u001b[0m \u001b[1;32mNone\u001b[0m\u001b[1;33m:\u001b[0m\u001b[1;33m\u001b[0m\u001b[1;33m\u001b[0m\u001b[0m\n",
      "\u001b[1;31mAttributeError\u001b[0m: 'Series' object has no attribute 'reshape'"
     ]
    }
   ],
   "source": [
    "model = LinearRegression()\n",
    "model.fit(xTrain.reshape(-1,1), yTrain)\n",
    "\n",
    "print(f\"Score: {model.score(xTest, yTest)}\")"
   ]
  }
 ],
 "metadata": {
  "interpreter": {
   "hash": "f3f15743f56004c83ba6427df72dd7847ba5cfceeb30fc8b6e66228bb04c2a9e"
  },
  "kernelspec": {
   "display_name": "Python 3.9.1 64-bit",
   "language": "python",
   "name": "python3"
  },
  "language_info": {
   "codemirror_mode": {
    "name": "ipython",
    "version": 3
   },
   "file_extension": ".py",
   "mimetype": "text/x-python",
   "name": "python",
   "nbconvert_exporter": "python",
   "pygments_lexer": "ipython3",
   "version": "3.9.1"
  },
  "orig_nbformat": 4
 },
 "nbformat": 4,
 "nbformat_minor": 2
}
